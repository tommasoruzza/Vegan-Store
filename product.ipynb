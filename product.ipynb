{
 "cells": [
  {
   "cell_type": "code",
   "execution_count": null,
   "id": "819b9aa2",
   "metadata": {},
   "outputs": [],
   "source": [
    "class Product:\n",
    "    \n",
    "    \"\"\"\n",
    "    Class to represent a product.\n",
    "    \"\"\"\n",
    "    \n",
    "    def __init__(self, name, quantity, purchase_price, sale_price):\n",
    "        \n",
    "        \"\"\"\n",
    "        Initializes a new product object with the specified name, quantity, purchase price and sale price.\n",
    "        \n",
    "        Args:\n",
    "            name(str): Name of product.\n",
    "            quantity(int): Quantity of the product available in inventory.\n",
    "            purchase_price(float): Purchase Price of the product. \n",
    "            sale_price(float): Sale Price of the product. \n",
    "        \"\"\"\n",
    "        \n",
    "        self.name = name\n",
    "        self.quantity = quantity\n",
    "        self.purchase_price = purchase_price\n",
    "        self.sale_price = sale_price\n",
    "        \n",
    "    def __str__(self):\n",
    "        \n",
    "        \"\"\"\n",
    "        Returns a string representation of the product.\n",
    "        \n",
    "        Returns:\n",
    "            str: String representing the product in the format \"Name (Quantity available) - Sale Price: X, Purchase Price: Y\".\n",
    "        \"\"\"\n",
    "        return f\"{self.name} ({self.quantity} disponibili) - Prezzo vendita: €{self.sale_price}, Prezzo d'acquisto: €{self.purchase_price}\"\n",
    "    \n",
    "    def gross_prices(self):\n",
    "        \n",
    "        \"\"\"\n",
    "        Calculates and returns the total gross price of the product, considering the available quantity.\n",
    "        \n",
    "        Returns:\n",
    "            float: The total gross price of the product.\n",
    "        \"\"\"\n",
    "        return round(self.sale_price * self.quantity,2)\n",
    "    \n",
    "    def net_prices(self):\n",
    "        \n",
    "        \"\"\"\n",
    "        Calculates and returns the total net price of the product, considering the available quantity. \n",
    "        \n",
    "        Returns: \n",
    "            float: The total net price of the product.\n",
    "        \"\"\"\n",
    "        return round(self.purchase_price * self.quantity,2)\n"
   ]
  }
 ],
 "metadata": {
  "kernelspec": {
   "display_name": "Python 3 (ipykernel)",
   "language": "python",
   "name": "python3"
  },
  "language_info": {
   "codemirror_mode": {
    "name": "ipython",
    "version": 3
   },
   "file_extension": ".py",
   "mimetype": "text/x-python",
   "name": "python",
   "nbconvert_exporter": "python",
   "pygments_lexer": "ipython3",
   "version": "3.11.5"
  }
 },
 "nbformat": 4,
 "nbformat_minor": 5
}
